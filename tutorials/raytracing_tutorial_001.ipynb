{
 "cells": [
  {
   "cell_type": "markdown",
   "metadata": {},
   "source": [
    "# How to raytrace?\n",
    "This tutorial is targetting to introduce a library called `odak`, and show how one can use `odak` for raytracing purposes. Author of this tutorial is [Kaan Akşit](https://kaanaksit.com), for questions please reach out to him through [email](kunguz@gmail.com). Note that this tutorial assumes, you have a reasonable knowledge on raytracing in general, programming with `Python` and `Jupyter notebooks`. The target audience of this tutorial are people interested in raytracing in general, and want to use it for solving optical problems."
   ]
  },
  {
   "cell_type": "markdown",
   "metadata": {},
   "source": [
    "## Requirements\n",
    "For this tutorial one needs a `Python>=3.6.7`, `Numpy>=1.5.1`, `matplotlib>=2.1.1`, `git>=2.17.1`, and `odak`, entire tutorial is verified using an `Ubuntu 18.04` at `4.15.0-46-generic`. Note that I won't be explaining how to install all these libraries as your favorite search engine can lead you to tons of examples of doing that.\n",
    "\n",
    "### How to install Odak?\n",
    "\n",
    "For the sake of stability, I will now explain how does one clone and use a specific version of `odak`. Start a shell using your linux operating system, and generate two folders as follows:\n",
    "\n",
    "```\n",
    "mkdir raytracing\n",
    "cd raytracing\n",
    "mkdir shared_modules\n",
    "cd shared_modules\n",
    "```\n",
    "\n",
    "As you are inside the directory called `shared_modules`, clone `odak` using below command. Note that this process is assuming that you have configured your git settings before, git may prompt for warning for your local configurations.\n",
    "\n",
    "```\n",
    "git clone https://github.com/kunguz/odak.git\n",
    "cd ..\n",
    "```\n",
    "\n",
    "Commit number of Odak used in this tutorial is `14c061e6e01c977e83077fc1f6e371d7aa40f7d9`, in case you want to use that specific version.\n",
    "\n",
    "### How to run this tutorial?\n",
    "Now that, you have a folder named as `raytracing`, first navigate to that `raytracing` main directory. Make sure that this tutorial `raytracing_tutorial_001.ipynb` is inside this main folder of `raytracing`, if not please copy it , and start running this tutorial. You can do so either using your own methods or Jupyter's main page."
   ]
  },
  {
   "cell_type": "markdown",
   "metadata": {},
   "source": [
    "# Step 1: Imports\n",
    "Very first thing that we have to make sure to start this tutorial is that we have the everything imported as in the way it should be."
   ]
  },
  {
   "cell_type": "code",
   "execution_count": 1,
   "metadata": {},
   "outputs": [],
   "source": [
    "%matplotlib inline\n",
    "\n",
    "# Standard libraries.\n",
    "from IPython.display import HTML\n",
    "import os,sys\n",
    "import numpy as np\n",
    "import matplotlib.pyplot as plt\n",
    "\n",
    "# Other libraries.\n",
    "sys.path.append('./shared_modules/odak/source/lib')\n",
    "import odak"
   ]
  },
  {
   "cell_type": "markdown",
   "metadata": {},
   "source": [
    "If all goes well, and you are able to import these libraries without any error, you are ready to raytrace. \n",
    "\n",
    "Let's define a raytracer so that we can start raytracing:"
   ]
  },
  {
   "cell_type": "code",
   "execution_count": 2,
   "metadata": {},
   "outputs": [],
   "source": [
    "raytracer = odak.raytracing()"
   ]
  },
  {
   "cell_type": "markdown",
   "metadata": {},
   "source": [
    "# Step 2: Anatomy of a ray\n",
    "I will try to explain what is a ray in mathematical means, yes, it is a line in between two dots. However, how would you describe that to a computer? You may provide two points and store them, which may be the most simplistic way. I will first explain why storing two points is a bad idea in the first place. You are likely to be asking this ray to refract, reflect or diffract or may be interfere in some cases. Let's think about [Snell's refraction law](https://en.wikipedia.org/wiki/Snell's_law) that formulation is purely based on the angles, and location of the hit of a ray. Therefore, two points would always require a conversion to finding angle of a particular ray, why not doing that in the first place as you define a ray. Therefore, most common description of a ray is a start point, and directions  defined along X,Y, and Z axes in cosines form. Luckily, there is a very good and very old manuscript on showing the benefits of such a definition: **G.H. Spencer and M.V.R.K. Murty, \"General Ray-Tracing Procedure\", 1961**."
   ]
  },
  {
   "cell_type": "markdown",
   "metadata": {},
   "source": [
    "Now that we know a ray is a starting point and angle, let's see what `odak` can do for conversion of two points description to a ray. First definition that we are going to use from `createvectorfromtwopoints`."
   ]
  },
  {
   "cell_type": "code",
   "execution_count": 3,
   "metadata": {},
   "outputs": [
    {
     "name": "stdout",
     "output_type": "stream",
     "text": [
      "(array([[[0.        ],\n",
      "        [0.        ],\n",
      "        [0.        ]],\n",
      "\n",
      "       [[0.48507125],\n",
      "        [0.72760688],\n",
      "        [0.48507125]]]), 2.0615528128088303)\n"
     ]
    }
   ],
   "source": [
    "point0  = [0.,0.,0.]  # <-- 1st point\n",
    "point1  = [1.,1.5,1.] # <-- 2nd point\n",
    "newray0 = raytracer.createvectorfromtwopoints(point0,point1) # <-- Defining a ray using two points.\n",
    "print(newray0)"
   ]
  },
  {
   "cell_type": "markdown",
   "metadata": {},
   "source": [
    "Let's understand what we have received from this definition that we have just used."
   ]
  },
  {
   "cell_type": "code",
   "execution_count": 4,
   "metadata": {},
   "outputs": [
    {
     "data": {
      "text/plain": [
       "array([[0.],\n",
       "       [0.],\n",
       "       [0.]])"
      ]
     },
     "execution_count": 4,
     "metadata": {},
     "output_type": "execute_result"
    }
   ],
   "source": [
    "newray0[0][0] # <-- Starting point"
   ]
  },
  {
   "cell_type": "code",
   "execution_count": 5,
   "metadata": {},
   "outputs": [
    {
     "data": {
      "text/plain": [
       "array([[0.48507125],\n",
       "       [0.72760688],\n",
       "       [0.48507125]])"
      ]
     },
     "execution_count": 5,
     "metadata": {},
     "output_type": "execute_result"
    }
   ],
   "source": [
    "newray0[0][1] # <-- Direction cosines"
   ]
  },
  {
   "cell_type": "markdown",
   "metadata": {},
   "source": [
    "Now that you know how to create rays using two points, you can use this specific definition while using `odak` or may also define a list that contains a starting point and a direction. However, I highly suggest using `createvectorfromtwopoints` as many operations inside `odak` relies on rotation and it is already defined in a specific coherent way inside `odak` library`."
   ]
  }
 ],
 "metadata": {
  "kernelspec": {
   "display_name": "Python 3",
   "language": "python",
   "name": "python3"
  },
  "language_info": {
   "codemirror_mode": {
    "name": "ipython",
    "version": 3
   },
   "file_extension": ".py",
   "mimetype": "text/x-python",
   "name": "python",
   "nbconvert_exporter": "python",
   "pygments_lexer": "ipython3",
   "version": "3.6.7"
  }
 },
 "nbformat": 4,
 "nbformat_minor": 2
}
